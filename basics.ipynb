{
 "cells": [
  {
   "cell_type": "markdown",
   "id": "3b476f95",
   "metadata": {},
   "source": [
    "SUM"
   ]
  },
  {
   "cell_type": "code",
   "execution_count": 3,
   "id": "e277db3f",
   "metadata": {},
   "outputs": [
    {
     "name": "stdout",
     "output_type": "stream",
     "text": [
      "The sum of the list is: 22\n",
      "The Avg of the list is: 5.5\n"
     ]
    }
   ],
   "source": [
    "# sum of a list of numbers\n",
    "numbers = [1 , 3 , 8 , 10]\n",
    "total = 0\n",
    "for i in numbers:\n",
    "    total += i\n",
    "\n",
    "print(\"The sum of the list is:\", total)\n",
    "print(\"The Avg of the list is:\", total / len(numbers))\n",
    "\n"
   ]
  },
  {
   "cell_type": "markdown",
   "id": "94fc6864",
   "metadata": {},
   "source": [
    "Linear Maximum Search Algorithm"
   ]
  },
  {
   "cell_type": "code",
   "execution_count": 7,
   "id": "419b26c5",
   "metadata": {},
   "outputs": [
    {
     "name": "stdout",
     "output_type": "stream",
     "text": [
      "The max number is(method 1): 10\n",
      "The max number is(method 2): 10\n"
     ]
    }
   ],
   "source": [
    "# Method 1:\n",
    "numbers = [1 , 3 , 8 , 10,9]\n",
    "\n",
    "max_number = numbers[0]\n",
    "for number in numbers:\n",
    "    if number > max_number:\n",
    "        max_number = number\n",
    "\n",
    "print(\"The max number is(method 1):\", max_number)\n",
    "\n",
    "\n",
    "# Method 2 ( build in function):\n",
    "\n",
    "print(\"The max number is(method 2):\", max(numbers))"
   ]
  },
  {
   "cell_type": "markdown",
   "id": "18f07733",
   "metadata": {},
   "source": [
    "Linear Search – Check if a Value Exists in a List"
   ]
  },
  {
   "cell_type": "code",
   "execution_count": 9,
   "id": "2bebc2bf",
   "metadata": {},
   "outputs": [
    {
     "name": "stdout",
     "output_type": "stream",
     "text": [
      "The target number is found in the list\n",
      "The target number is found in the list\n"
     ]
    }
   ],
   "source": [
    "# Method 1\n",
    "numbers = [1 , 3 , 8 , 10,9]\n",
    "\n",
    "target = 10\n",
    "found = False\n",
    "\n",
    "for number in numbers:\n",
    "    if number == target:\n",
    "        found = True\n",
    "        break\n",
    "if found:\n",
    "    print(\"The target number is found in the list\")\n",
    "else:\n",
    "    print(\"The target number is not found in the list\")\n",
    "\n",
    "# Method 2 (build in function)\n",
    "if target in numbers:\n",
    "    print(\"The target number is found in the list\")\n",
    "else:\n",
    "    print(\"The target number is not found in the list\") \n"
   ]
  },
  {
   "cell_type": "markdown",
   "id": "bac7000a",
   "metadata": {},
   "source": [
    "Counting Occurrences (Linear Counting Algorithm)"
   ]
  },
  {
   "cell_type": "code",
   "execution_count": null,
   "id": "5bd7abbb",
   "metadata": {},
   "outputs": [
    {
     "name": "stdout",
     "output_type": "stream",
     "text": [
      "The target number appears 4 times in the list\n",
      "The target number appears 4 times in the list\n"
     ]
    }
   ],
   "source": [
    "# Method 1\n",
    "numbers = [1,3,8,10,9,9,9,9]\n",
    "\n",
    "target = 9\n",
    "count = 0\n",
    "\n",
    "for number in numbers:\n",
    "    if number == target:\n",
    "        count += 1\n",
    "print(\"The target number appears\", count, \"times in the list\")\n",
    "# Method 2 (build in function)\n",
    "print(\"The target number appears\", numbers.count(target), \"times in the list\")\n"
   ]
  },
  {
   "cell_type": "code",
   "execution_count": null,
   "id": "9bc5d0f4",
   "metadata": {},
   "outputs": [],
   "source": []
  }
 ],
 "metadata": {
  "kernelspec": {
   "display_name": "testenv",
   "language": "python",
   "name": "testenv"
  },
  "language_info": {
   "codemirror_mode": {
    "name": "ipython",
    "version": 3
   },
   "file_extension": ".py",
   "mimetype": "text/x-python",
   "name": "python",
   "nbconvert_exporter": "python",
   "pygments_lexer": "ipython3",
   "version": "3.11.5"
  }
 },
 "nbformat": 4,
 "nbformat_minor": 5
}
